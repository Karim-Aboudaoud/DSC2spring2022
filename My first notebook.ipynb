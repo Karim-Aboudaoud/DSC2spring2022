{
 "cells": [
  {
   "cell_type": "code",
   "execution_count": 1,
   "id": "541c4e37",
   "metadata": {},
   "outputs": [],
   "source": [
    "import numpy as np\n"
   ]
  },
  {
   "cell_type": "code",
   "execution_count": 2,
   "id": "5504609d",
   "metadata": {},
   "outputs": [],
   "source": [
    "x=np.random.random(10)"
   ]
  },
  {
   "cell_type": "code",
   "execution_count": 3,
   "id": "4383a6e6",
   "metadata": {},
   "outputs": [
    {
     "data": {
      "text/plain": [
       "array([0.00519492, 0.60961727, 0.49368185, 0.66766253, 0.52679009,\n",
       "       0.05231754, 0.04165977, 0.52530026, 0.65513048, 0.31286555])"
      ]
     },
     "execution_count": 3,
     "metadata": {},
     "output_type": "execute_result"
    }
   ],
   "source": [
    "x"
   ]
  },
  {
   "cell_type": "code",
   "execution_count": null,
   "id": "2eb3763a",
   "metadata": {},
   "outputs": [],
   "source": []
  }
 ],
 "metadata": {
  "kernelspec": {
   "display_name": "Python 3 (ipykernel)",
   "language": "python",
   "name": "python3"
  },
  "language_info": {
   "codemirror_mode": {
    "name": "ipython",
    "version": 3
   },
   "file_extension": ".py",
   "mimetype": "text/x-python",
   "name": "python",
   "nbconvert_exporter": "python",
   "pygments_lexer": "ipython3",
   "version": "3.9.7"
  }
 },
 "nbformat": 4,
 "nbformat_minor": 5
}
